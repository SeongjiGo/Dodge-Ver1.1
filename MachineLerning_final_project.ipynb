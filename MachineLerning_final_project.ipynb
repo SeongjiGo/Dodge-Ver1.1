{
  "nbformat": 4,
  "nbformat_minor": 0,
  "metadata": {
    "colab": {
      "name": "MachineLerning_final_project",
      "provenance": [],
      "collapsed_sections": [],
      "authorship_tag": "ABX9TyPnol8DDvjzXLS1FmAdfUyG",
      "include_colab_link": true
    },
    "kernelspec": {
      "name": "python3",
      "display_name": "Python 3"
    },
    "language_info": {
      "name": "python"
    }
  },
  "cells": [
    {
      "cell_type": "markdown",
      "metadata": {
        "id": "view-in-github",
        "colab_type": "text"
      },
      "source": [
        "<a href=\"https://colab.research.google.com/github/SeongjiGo/Dodge-Ver1.1/blob/master/MachineLerning_final_project.ipynb\" target=\"_parent\"><img src=\"https://colab.research.google.com/assets/colab-badge.svg\" alt=\"Open In Colab\"/></a>"
      ]
    },
    {
      "cell_type": "markdown",
      "metadata": {
        "id": "6Ye4GfuwRQB0"
      },
      "source": [
        "# 머신러닝 프로젝트\n",
        "- 21년도 2학기, 머신러닝 프로젝트 제작(손가락으로 표기한 숫자 인식 및 분류 프로그램)\n",
        "- 과목: 머신러닝 (김백섭 교수님)\n",
        "- 학기: 3학년 1학기 \n",
        "- 기간: 2021.11.08 ~ 2021.12.08 \n",
        "- 개발 언어: Python"
      ]
    },
    {
      "cell_type": "code",
      "metadata": {
        "id": "Si4m1ZmARPJw"
      },
      "source": [
        "import pytorch\n",
        "import os\n",
        "from glob import glob\n",
        "import pandas as pd\n",
        "\n",
        "file_path = './data/train/*/*.jpg' # 경로 저장\n",
        "file_list = glob(file_path) # 파일 리스트 저장\n",
        "\n",
        "data_dict = {'image_name':[], 'class':[], 'target':[], 'file_path':[]}\n",
        "target_dict = {'yi':1, 'er':2, 'san':3, 'si': 4, 'wu':5, 'liu':6, 'qi':7, 'ba': 8, 'jiu': 9, 'shi': 10}\n",
        "\n",
        "for path in file_list:\n",
        "    \n",
        "    data_dict['file_path'].append(path) # file_path 항목에 파일 경로 저장\n",
        "    \n",
        "    path_list = path.split(os.path.sep) # os(여기선 mac os)별 파일 경로 구분 문자로 split\n",
        "    print(path_list)\n",
        "    \n",
        "    data_dict['image_name'].append(path_list[-1])      \n",
        "    data_dict['class'].append(path_list[-2])\n",
        "    data_dict['target'].append(target_dict[path_list[-2]])\n",
        "\n",
        "train_df = pd.DataFrame(data_dict)\n",
        "print('\\n<data frame>\\n', train_df)\n",
        "\n",
        "train_df.to_csv(\"./data/train.csv\", mode='w')\n",
        "\n",
        "\n"
      ],
      "execution_count": null,
      "outputs": []
    }
  ]
}